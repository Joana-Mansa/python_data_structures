{
 "cells": [
  {
   "cell_type": "markdown",
   "id": "3c2e90df",
   "metadata": {},
   "source": [
    "### Q1\n",
    "\n",
    "Name the four built-in data structures in python. Give one examples for each\n",
    "\n",
    "ANS:\n",
    "\n",
    "1. set\n",
    "\n",
    "2. dictionary\n",
    "\n",
    "3. tuple\n",
    "\n",
    "4. list"
   ]
  },
  {
   "cell_type": "markdown",
   "id": "b6e1dd1b",
   "metadata": {},
   "source": [
    "### Q2\n",
    "\n",
    "State two differences between a list and a tuple in Python.\n",
    "\n",
    "ANS:\n",
    "\n",
    "1. List is mutable while a tuple is immutable\n",
    "\n",
    "2. A square bracket is used to create lists while a round bracket is used in the creation of a tuple"
   ]
  },
  {
   "cell_type": "markdown",
   "id": "815b4e67",
   "metadata": {},
   "source": [
    "### Q3\n",
    "Make a list containing names of five animals with a variable name `animal_list`\n",
    "\n",
    "Write a code for the following:\n",
    "- Print the first two animals\n",
    "- Print the last two animals\n",
    "- Add three extra animals to the variable `animal_list`\n",
    "- Remove the first two animals from the variable `animal_list`\n",
    "- How many animals are in the `animal_list`?\n",
    "- Create a variable animal_set which stores the set of animal_list \n",
    "- How many elements are in the animal_set?\n"
   ]
  },
  {
   "cell_type": "code",
   "execution_count": 38,
   "id": "87f51881",
   "metadata": {},
   "outputs": [],
   "source": [
    "# list of animals\n",
    "animal_list = ['dog', 'cat', 'goat', 'sheep', 'donkey']"
   ]
  },
  {
   "cell_type": "code",
   "execution_count": 39,
   "id": "4ae834c3",
   "metadata": {},
   "outputs": [
    {
     "data": {
      "text/plain": [
       "['dog', 'cat']"
      ]
     },
     "execution_count": 39,
     "metadata": {},
     "output_type": "execute_result"
    }
   ],
   "source": [
    "# first two animals\n",
    "animal_list[:2]"
   ]
  },
  {
   "cell_type": "code",
   "execution_count": 40,
   "id": "0dc54708",
   "metadata": {},
   "outputs": [
    {
     "data": {
      "text/plain": [
       "['sheep', 'donkey']"
      ]
     },
     "execution_count": 40,
     "metadata": {},
     "output_type": "execute_result"
    }
   ],
   "source": [
    "# last two animals\n",
    "animal_list[-2:]"
   ]
  },
  {
   "cell_type": "code",
   "execution_count": 41,
   "id": "6c2532a3",
   "metadata": {},
   "outputs": [
    {
     "data": {
      "text/plain": [
       "['dog', 'cat', 'goat', 'sheep', 'donkey', 'lizard', 'monkey', 'cricket']"
      ]
     },
     "execution_count": 41,
     "metadata": {},
     "output_type": "execute_result"
    }
   ],
   "source": [
    "# adding extra animals\n",
    "animal_list.extend(['lizard', 'monkey', 'cricket'])\n",
    "\n",
    "animal_list"
   ]
  },
  {
   "cell_type": "code",
   "execution_count": 42,
   "id": "a96c1ed9",
   "metadata": {},
   "outputs": [
    {
     "data": {
      "text/plain": [
       "['goat', 'sheep', 'donkey', 'lizard', 'monkey', 'cricket']"
      ]
     },
     "execution_count": 42,
     "metadata": {},
     "output_type": "execute_result"
    }
   ],
   "source": [
    "# remove the last two animals\n",
    "del animal_list[:2]\n",
    "\n",
    "animal_list"
   ]
  },
  {
   "cell_type": "code",
   "execution_count": 43,
   "id": "439ae2ee",
   "metadata": {},
   "outputs": [
    {
     "data": {
      "text/plain": [
       "6"
      ]
     },
     "execution_count": 43,
     "metadata": {},
     "output_type": "execute_result"
    }
   ],
   "source": [
    "# how many animals are in the list\n",
    "len(animal_list)"
   ]
  },
  {
   "cell_type": "code",
   "execution_count": 44,
   "id": "ebd24fc3",
   "metadata": {},
   "outputs": [
    {
     "data": {
      "text/plain": [
       "{'cricket', 'donkey', 'goat', 'lizard', 'monkey', 'sheep'}"
      ]
     },
     "execution_count": 44,
     "metadata": {},
     "output_type": "execute_result"
    }
   ],
   "source": [
    "# create a variable set\n",
    "animal_set = set(animal_list)\n",
    "animal_set"
   ]
  },
  {
   "cell_type": "code",
   "execution_count": 45,
   "id": "5886c8ce",
   "metadata": {},
   "outputs": [
    {
     "data": {
      "text/plain": [
       "6"
      ]
     },
     "execution_count": 45,
     "metadata": {},
     "output_type": "execute_result"
    }
   ],
   "source": [
    "# length of the set\n",
    "len(animal_set)"
   ]
  },
  {
   "cell_type": "markdown",
   "id": "113c9970",
   "metadata": {},
   "source": [
    "### Q4\n",
    "\n",
    "Given a list:\n",
    "\n",
    "suitcase = [\"sunglasses\", \"hat\", \"passport\", \"laptop\", \"suit\", \"shoes\"]\n",
    "\n",
    "a. Create a list called first containing only the two first items from suitcase.\n",
    "\n",
    "b. Create a list called middle containing only the two middle items from suitcase.\n",
    "\n",
    "c. Create a list called last made up only of the last two items from suitcase."
   ]
  },
  {
   "cell_type": "code",
   "execution_count": 46,
   "id": "692aa6bd",
   "metadata": {},
   "outputs": [
    {
     "data": {
      "text/plain": [
       "['sunglasses', 'hat']"
      ]
     },
     "execution_count": 46,
     "metadata": {},
     "output_type": "execute_result"
    }
   ],
   "source": [
    "suitcase = [\"sunglasses\", \"hat\", \"passport\", \"laptop\", \"suit\", \"shoes\"]\n",
    "\n",
    "# list containing the first two items\n",
    "first = suitcase[:2]\n",
    "first"
   ]
  },
  {
   "cell_type": "code",
   "execution_count": 47,
   "id": "cac2978f",
   "metadata": {},
   "outputs": [
    {
     "data": {
      "text/plain": [
       "['passport', 'laptop']"
      ]
     },
     "execution_count": 47,
     "metadata": {},
     "output_type": "execute_result"
    }
   ],
   "source": [
    "# two middle items\n",
    "middle = suitcase[2:4]\n",
    "middle"
   ]
  },
  {
   "cell_type": "code",
   "execution_count": 49,
   "id": "8257af21",
   "metadata": {},
   "outputs": [
    {
     "data": {
      "text/plain": [
       "['suit', 'shoes']"
      ]
     },
     "execution_count": 49,
     "metadata": {},
     "output_type": "execute_result"
    }
   ],
   "source": [
    "# last two items\n",
    "last = suitcase[-2:]\n",
    "last"
   ]
  },
  {
   "cell_type": "markdown",
   "id": "711ba044",
   "metadata": {},
   "source": [
    "### Q5\n",
    "Write a python code to insert 35 into the list below. Make sure it is inserted in the right position to maintain the order of the data.\n",
    "\n",
    "`values = [20,25,30,40,45,50,55,60,65,70]`"
   ]
  },
  {
   "cell_type": "code",
   "execution_count": 59,
   "id": "f408e85d",
   "metadata": {},
   "outputs": [
    {
     "data": {
      "text/plain": [
       "[20, 25, 30, 35, 40, 45, 50, 55, 60, 65, 70]"
      ]
     },
     "execution_count": 59,
     "metadata": {},
     "output_type": "execute_result"
    }
   ],
   "source": [
    "values = [20,25,30,40,45,50,55,60,65,70]\n",
    "# we have to insert 35 into the list \n",
    "# and maintain the other\n",
    "# use the insert function\n",
    "values.insert(3,35)\n",
    "values"
   ]
  },
  {
   "cell_type": "markdown",
   "id": "f535cf64",
   "metadata": {},
   "source": [
    "### Q6\n",
    "\n",
    "Given that Python lists and Python tuples are quite similar – when might you prefer to use a tuple over a list?\n",
    "\n",
    "Tuples cannot be manipulated. I would use a tuple when i don't want the list to be changed, example an assessment list of students in a class.  A list on the other hand can be changed during the process."
   ]
  },
  {
   "cell_type": "markdown",
   "id": "346927f6",
   "metadata": {},
   "source": [
    "### Q7\n",
    "Create a dictionary with 5 Ghana regions and their capitals and store it in the variable `region_capital`\n",
    "\n",
    "- Print out the keys of region_capital\n",
    "- Print out the values of region_capital\n"
   ]
  },
  {
   "cell_type": "code",
   "execution_count": 60,
   "id": "360b79af",
   "metadata": {},
   "outputs": [
    {
     "data": {
      "text/plain": [
       "{'Ashanti': 'Kumasi',\n",
       " 'Central': 'Cape Coast',\n",
       " 'Greater Accra': 'Accra',\n",
       " 'Upper West': 'Wa',\n",
       " 'Northern': 'Tamale'}"
      ]
     },
     "execution_count": 60,
     "metadata": {},
     "output_type": "execute_result"
    }
   ],
   "source": [
    "# creating a dictionary\n",
    "region_capital = {\"Ashanti\":\"Kumasi\", \"Central\":\"Cape Coast\", \"Greater Accra\":\"Accra\", \"Upper West\":\"Wa\", \"Northern\":\"Tamale\"}\n",
    "region_capital"
   ]
  },
  {
   "cell_type": "code",
   "execution_count": 61,
   "id": "28f4287f",
   "metadata": {},
   "outputs": [
    {
     "data": {
      "text/plain": [
       "dict_keys(['Ashanti', 'Central', 'Greater Accra', 'Upper West', 'Northern'])"
      ]
     },
     "execution_count": 61,
     "metadata": {},
     "output_type": "execute_result"
    }
   ],
   "source": [
    "# printing out the keys\n",
    "region_capital.keys()"
   ]
  },
  {
   "cell_type": "code",
   "execution_count": 62,
   "id": "7e7cedb3",
   "metadata": {},
   "outputs": [
    {
     "data": {
      "text/plain": [
       "dict_values(['Kumasi', 'Cape Coast', 'Accra', 'Wa', 'Tamale'])"
      ]
     },
     "execution_count": 62,
     "metadata": {},
     "output_type": "execute_result"
    }
   ],
   "source": [
    "# printing out the values\n",
    "region_capital.values()"
   ]
  },
  {
   "cell_type": "markdown",
   "id": "70526b3b",
   "metadata": {},
   "source": [
    "### Q8\n",
    "\n",
    "`values = [3,4,5,6,3,4,3,5,2,4,2,5,6,1,6]`\n",
    "\n",
    "Using the codes above answer the following questions:\n",
    "- What is the total number of elements in values?\n",
    "- What is the highest occuring number in the values variable?\n",
    "- Convert values into a set and store it into a variable named `values_set`\n",
    "- How many elements are in the variable values_set?\n"
   ]
  },
  {
   "cell_type": "code",
   "execution_count": 76,
   "id": "0cb54a5f",
   "metadata": {},
   "outputs": [
    {
     "data": {
      "text/plain": [
       "16"
      ]
     },
     "execution_count": 76,
     "metadata": {},
     "output_type": "execute_result"
    }
   ],
   "source": [
    "values = [3,4,5,6,3,4,3,5,2,4,2,5,6,1,6,3]\n",
    "\n",
    "# printing the total number of elements\n",
    "len(values)"
   ]
  },
  {
   "cell_type": "code",
   "execution_count": 135,
   "id": "5b4f1e3f",
   "metadata": {},
   "outputs": [
    {
     "data": {
      "text/plain": [
       "3"
      ]
     },
     "execution_count": 135,
     "metadata": {},
     "output_type": "execute_result"
    }
   ],
   "source": [
    "# highest occuring number in values\n",
    "# find the mode\n",
    "# count the number of distinct values\n",
    "# return the highest duplicate\n",
    "count_values ={}\n",
    "for i in values:\n",
    "    if i in count_values:\n",
    "        count_values[i] +=1\n",
    "    else:\n",
    "        count_values[i]=1\n",
    "most_frequent = max(count_values, key=count_values.get)\n",
    "most_frequent    \n",
    "    \n",
    "    "
   ]
  },
  {
   "cell_type": "code",
   "execution_count": 136,
   "id": "68c64ecc",
   "metadata": {},
   "outputs": [
    {
     "data": {
      "text/plain": [
       "{1, 2, 3, 4, 5, 6}"
      ]
     },
     "execution_count": 136,
     "metadata": {},
     "output_type": "execute_result"
    }
   ],
   "source": [
    "# converting values into a set\n",
    "values_set = set(values)\n",
    "values_set"
   ]
  },
  {
   "cell_type": "code",
   "execution_count": 75,
   "id": "7958c276",
   "metadata": {},
   "outputs": [
    {
     "data": {
      "text/plain": [
       "6"
      ]
     },
     "execution_count": 75,
     "metadata": {},
     "output_type": "execute_result"
    }
   ],
   "source": [
    "# elements in values_set\n",
    "len(values_set)"
   ]
  },
  {
   "cell_type": "markdown",
   "id": "801d5876",
   "metadata": {},
   "source": [
    "### Q9\n",
    "Write a Python script to print a dictionary where the keys are numbers between 1 and 15 (both included) and the values are the square of the keys."
   ]
  },
  {
   "cell_type": "code",
   "execution_count": 132,
   "id": "be3760a5",
   "metadata": {
    "scrolled": false
   },
   "outputs": [
    {
     "name": "stdout",
     "output_type": "stream",
     "text": [
      "{1: 1, 2: 4, 3: 9, 4: 16, 5: 25, 6: 36, 7: 49, 8: 64, 9: 81, 10: 100, 11: 121, 12: 144, 13: 169, 14: 196, 15: 225}\n"
     ]
    }
   ],
   "source": [
    "# output a dictionary\n",
    "# keys are numbers in range(1,16)\n",
    "# values square of the keys\n",
    "\n",
    "output = {}\n",
    "for i in range(1,16):\n",
    "    \n",
    "    output[i] = i**2 \n",
    "print(output)\n",
    "    "
   ]
  },
  {
   "cell_type": "markdown",
   "id": "18954e57",
   "metadata": {},
   "source": [
    "### Q10\n",
    "Write a Python program to create a dictionary of keys x, y, and z where each key has as value a list from 11-20, 21-30, and 31-40 respectively. Access the fifth value of each key from the dictionary."
   ]
  },
  {
   "cell_type": "code",
   "execution_count": 123,
   "id": "fec19820",
   "metadata": {},
   "outputs": [
    {
     "data": {
      "text/plain": [
       "{'x': 16, 'y': 26, 'z': 36}"
      ]
     },
     "execution_count": 123,
     "metadata": {},
     "output_type": "execute_result"
    }
   ],
   "source": [
    " \n",
    "x_list = []\n",
    "for x in range(11, 21):\n",
    "    x_list.append(x)\n",
    "x_list\n",
    "\n",
    "y_list = []\n",
    "for y in range(21, 31):\n",
    "    y_list.append(y)\n",
    "\n",
    "z_list = []\n",
    "for z in range(31, 41):\n",
    "    z_list.append(z)\n",
    "dict = {\"x\":x_list[5], \"y\":y_list[5], \"z\":z_list[5]}\n",
    "dict\n",
    "    \n",
    "# dict = {\"x\": [i], \"y\":y, \"z\":z}\n",
    "# dict"
   ]
  },
  {
   "cell_type": "code",
   "execution_count": null,
   "id": "6594438d",
   "metadata": {},
   "outputs": [],
   "source": []
  }
 ],
 "metadata": {
  "kernelspec": {
   "display_name": "Python 3 (ipykernel)",
   "language": "python",
   "name": "python3"
  },
  "language_info": {
   "codemirror_mode": {
    "name": "ipython",
    "version": 3
   },
   "file_extension": ".py",
   "mimetype": "text/x-python",
   "name": "python",
   "nbconvert_exporter": "python",
   "pygments_lexer": "ipython3",
   "version": "3.9.13"
  }
 },
 "nbformat": 4,
 "nbformat_minor": 5
}
